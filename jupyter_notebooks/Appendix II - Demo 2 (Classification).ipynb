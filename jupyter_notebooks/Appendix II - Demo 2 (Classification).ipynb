{
 "cells": [
  {
   "cell_type": "code",
   "execution_count": 1,
   "metadata": {
    "collapsed": false,
    "deletable": true,
    "editable": true
   },
   "outputs": [
    {
     "name": "stderr",
     "output_type": "stream",
     "text": [
      "Using TensorFlow backend.\n"
     ]
    }
   ],
   "source": [
    "# The modules we're going to use\n",
    "from __future__ import print_function\n",
    "\n",
    "from keras.models import Sequential\n",
    "from keras.layers import Dense, Activation\n",
    "from keras.utils import np_utils\n",
    "from keras.optimizers import Adam\n",
    "from keras.datasets import mnist\n",
    "from keras.callbacks import TensorBoard\n",
    "\n",
    "import numpy as np\n",
    "import matplotlib.pyplot as plt\n",
    "\n",
    "# When you execute a code to plot with a simple SHIFT-ENTER, the plot will be shown directly under the code cell\n",
    "%matplotlib inline"
   ]
  },
  {
   "cell_type": "code",
   "execution_count": 2,
   "metadata": {
    "collapsed": false,
    "deletable": true,
    "editable": true
   },
   "outputs": [
    {
     "name": "stdout",
     "output_type": "stream",
     "text": [
      "X_train size:  (60000, 28, 28)\n",
      "y_train size:  (60000,)\n",
      "X_test size:  (10000, 28, 28)\n",
      "y_test size:  (10000,)\n",
      "The training example 5's target is 2\n",
      "After pre-processing, X_train size:  (60000, 784)\n",
      "After pre-processing, y_train size:  (60000, 10)\n",
      "After pre-processing, X_test size:  (10000, 784)\n",
      "After pre-processing, y_test size:  (10000, 10)\n",
      "[ 0.  0.  1.  0.  0.  0.  0.  0.  0.  0.]\n"
     ]
    },
    {
     "data": {
      "image/png": "[encoded data removed]",
      "text/plain": [
       "<matplotlib.figure.Figure at 0x242f6756f28>"
      ]
     },
     "metadata": {},
     "output_type": "display_data"
    },
    {
     "data": {
      "image/png": "[encoded data removed]",
      "text/plain": [
       "<matplotlib.figure.Figure at 0x242f9fa8b70>"
      ]
     },
     "metadata": {},
     "output_type": "display_data"
    }
   ],
   "source": [
    "# Load mnist data\n",
    "(X_train,y_train),(X_test,y_test) = mnist.load_data()\n",
    "\n",
    "# Display size\n",
    "print('X_train size: ', X_train.shape)\n",
    "print('y_train size: ', y_train.shape)\n",
    "print('X_test size: ', X_test.shape)\n",
    "print('y_test size: ', y_test.shape)\n",
    "\n",
    "# Show one training example\n",
    "idx = 5\n",
    "plt.imshow(X_train[idx], cmap='gray')\n",
    "print('The training example %d\\'s target is %d' % (idx, y_train[idx]))\n",
    "\n",
    "# Pre-processing\n",
    "X_train = X_train.reshape(X_train.shape[0],-1)/255\n",
    "X_test = X_test.reshape(X_test.shape[0],-1)/255\n",
    "y_train = np_utils.to_categorical(y_train,10)\n",
    "y_test = np_utils.to_categorical(y_test,10)\n",
    "print('After pre-processing, X_train size: ', X_train.shape)\n",
    "print('After pre-processing, y_train size: ', y_train.shape)\n",
    "print('After pre-processing, X_test size: ', X_test.shape)\n",
    "print('After pre-processing, y_test size: ', y_test.shape)\n",
    "\n",
    "# Show one training example\n",
    "idx = 5\n",
    "plt.figure()\n",
    "plt.imshow(X_train[idx].reshape(28,28), cmap='gray')\n",
    "print(y_train[idx])"
   ]
  },
  {
   "cell_type": "code",
   "execution_count": 3,
   "metadata": {
    "collapsed": false,
    "deletable": true,
    "editable": true
   },
   "outputs": [
    {
     "name": "stdout",
     "output_type": "stream",
     "text": [
      "Epoch 1/10\n",
      "2s - loss: 0.3505 - acc: 0.9006\n",
      "Epoch 2/10\n",
      "2s - loss: 0.1908 - acc: 0.9450\n",
      "Epoch 3/10\n",
      "2s - loss: 0.1511 - acc: 0.9563\n",
      "Epoch 4/10\n",
      "2s - loss: 0.1251 - acc: 0.9633\n",
      "Epoch 5/10\n",
      "2s - loss: 0.1084 - acc: 0.9679\n",
      "Epoch 6/10\n",
      "2s - loss: 0.0969 - acc: 0.9708\n",
      "Epoch 7/10\n",
      "2s - loss: 0.0881 - acc: 0.9744\n",
      "Epoch 8/10\n",
      "2s - loss: 0.0814 - acc: 0.9754\n",
      "Epoch 9/10\n",
      "2s - loss: 0.0747 - acc: 0.9771\n",
      "Epoch 10/10\n",
      "2s - loss: 0.0695 - acc: 0.9792\n",
      "The loss on testing data 0.111002527683\n",
      "The accuracy on testing data 0.9687\n"
     ]
    }
   ],
   "source": [
    "# Create a neural net\n",
    "model = Sequential([\n",
    "    Dense(input_dim=784, units=32),\n",
    "    Activation('relu'),\n",
    "    Dense(units=10),\n",
    "    Activation('softmax')\n",
    "])\n",
    "\n",
    "# Specify an optimizer to use\n",
    "adam = Adam(lr=0.001, beta_1=0.9, beta_2=0.999, epsilon=1e-08, decay=0.0)\n",
    "\n",
    "# Choose loss function, optimization method, and metrics (which results to display)\n",
    "model.compile(\n",
    "    optimizer = adam,\n",
    "    loss='categorical_crossentropy',\n",
    "    metrics=['accuracy']\n",
    ")\n",
    "\n",
    "# Use TensorBoard, an interactive visualization tool, to show the loss and accuracy at each epoch\n",
    "tbCallBack = TensorBoard(log_dir='./Graph', histogram_freq=0, write_graph=True, write_images=True)\n",
    "\n",
    "# Training\n",
    "model.fit(X_train,y_train,batch_size = 32, epochs=10, verbose=2, callbacks=[tbCallBack])\n",
    "\n",
    "# Testing\n",
    "loss, accuracy = model.evaluate(X_test,y_test,verbose=2)\n",
    "print('The loss on testing data', loss)\n",
    "print('The accuracy on testing data', accuracy)"
   ]
  },
  {
   "cell_type": "code",
   "execution_count": null,
   "metadata": {
    "collapsed": true,
    "deletable": true,
    "editable": true
   },
   "outputs": [],
   "source": []
  }
 ],
 "metadata": {
  "kernelspec": {
   "display_name": "Python 3",
   "language": "python",
   "name": "python3"
  },
  "language_info": {
   "codemirror_mode": {
    "name": "ipython",
    "version": 3
   },
   "file_extension": ".py",
   "mimetype": "text/x-python",
   "name": "python",
   "nbconvert_exporter": "python",
   "pygments_lexer": "ipython3",
   "version": "3.5.3"
  }
 },
 "nbformat": 4,
 "nbformat_minor": 0
}

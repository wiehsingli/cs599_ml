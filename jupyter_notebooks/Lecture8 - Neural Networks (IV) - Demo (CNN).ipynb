{
 "cells": [
  {
   "cell_type": "code",
   "execution_count": 31,
   "metadata": {
    "collapsed": false,
    "deletable": true,
    "editable": true
   },
   "outputs": [],
   "source": [
    "# The modules we're going to use\n",
    "from keras.datasets import mnist\n",
    "from keras.utils import np_utils\n",
    "from keras.models import Sequential\n",
    "from keras.layers import Dense, Activation, convolutional, pooling, Flatten, Dropout\n",
    "from keras.optimizers import Adam\n",
    "\n",
    "import numpy as np\n",
    "np.random.seed(1337)\n",
    "import matplotlib.pyplot as plt\n",
    "\n",
    "# When you execute a code to plot with a simple SHIFT-ENTER, the plot will be shown directly under the code cell\n",
    "%matplotlib inline"
   ]
  },
  {
   "cell_type": "code",
   "execution_count": 32,
   "metadata": {
    "collapsed": false,
    "deletable": true,
    "editable": true
   },
   "outputs": [
    {
     "name": "stdout",
     "output_type": "stream",
     "text": [
      "Before pre-processing, X_train size:  (1000, 28, 28)\n",
      "Before pre-processing, y_train size:  (1000,)\n",
      "Before pre-processing, X_test size:  (10000, 28, 28)\n",
      "Before pre-processing, y_test size:  (10000,)\n",
      "After pre-processing, X_train size:  (1000, 1, 28, 28)\n",
      "After pre-processing, y_train size:  (1000, 10)\n",
      "After pre-processing, X_test size:  (10000, 1, 28, 28)\n",
      "After pre-processing, y_test size:  (10000, 10)\n"
     ]
    }
   ],
   "source": [
    "# Load mnist data\n",
    "(X_train,y_train),(X_test,y_test) = mnist.load_data()\n",
    "X_train = X_train[:1000]\n",
    "y_train = y_train[:1000]\n",
    "\n",
    "print('Before pre-processing, X_train size: ', X_train.shape)\n",
    "print('Before pre-processing, y_train size: ', y_train.shape)\n",
    "print('Before pre-processing, X_test size: ', X_test.shape)\n",
    "print('Before pre-processing, y_test size: ', y_test.shape)\n",
    "\n",
    "# Pre-processing\n",
    "X_train = X_train.reshape(-1,1, 28,28)\n",
    "X_test = X_test.reshape(-1,1, 28,28)\n",
    "y_train = np_utils.to_categorical(y_train,10)\n",
    "y_test = np_utils.to_categorical(y_test,10)\n",
    "\n",
    "print('After pre-processing, X_train size: ', X_train.shape)\n",
    "print('After pre-processing, y_train size: ', y_train.shape)\n",
    "print('After pre-processing, X_test size: ', X_test.shape)\n",
    "print('After pre-processing, y_test size: ', y_test.shape)"
   ]
  },
  {
   "cell_type": "code",
   "execution_count": 33,
   "metadata": {
    "collapsed": false,
    "deletable": true,
    "editable": true
   },
   "outputs": [],
   "source": [
    "# Create a neural net\n",
    "model = Sequential()\n",
    "\n",
    "# Define dropout rate\n",
    "dprate = 0.5;\n",
    "\n",
    "# Add convolutional layer\n",
    "model.add(convolutional.Conv2D(\n",
    "    filters=32,\n",
    "    kernel_size=(3,3),\n",
    "    strides=(1, 1),\n",
    "    padding='same',     #padding_method\n",
    "    input_shape=(1,28,28),  # channels\n",
    "    activation='relu',\n",
    "))\n",
    "\n",
    "# Add max-pooling layer\n",
    "model.add(pooling.MaxPooling2D(\n",
    "    pool_size=(2, 2),\n",
    "    padding='same', #padding_method\n",
    "))\n",
    "\n",
    "# Add 2nd convolutional layer and max-pooling layer\n",
    "model.add(convolutional.Conv2D(64,(5,5),padding='same'))\n",
    "model.add(Activation('relu'))\n",
    "model.add(pooling.MaxPooling2D(pool_size=(2,2),padding='same'))\n",
    "\n",
    "# Add 3rd convolutional layer and max-pooling layer\n",
    "model.add(convolutional.Conv2D(128,(5,5),padding='same'))\n",
    "model.add(Activation('relu'))\n",
    "model.add(pooling.MaxPooling2D(pool_size=(2,2),padding='same'))\n",
    "\n",
    "# Add flatten layer and fully connected layer\n",
    "model.add(Flatten())\n",
    "model.add(Dense(1024))\n",
    "model.add(Activation('relu'))\n",
    "model.add(Dropout(dprate))\n",
    "\n",
    "# Add one more fully connected layer with softmax activation function\n",
    "model.add(Dense(10))\n",
    "model.add(Activation('softmax'))"
   ]
  },
  {
   "cell_type": "code",
   "execution_count": 34,
   "metadata": {
    "collapsed": false,
    "deletable": true,
    "editable": true
   },
   "outputs": [
    {
     "name": "stdout",
     "output_type": "stream",
     "text": [
      "Epoch 1/10\n",
      "1s - loss: 2.8962 - acc: 0.3660\n",
      "Epoch 2/10\n",
      "1s - loss: 0.7421 - acc: 0.7690\n",
      "Epoch 3/10\n",
      "1s - loss: 0.4880 - acc: 0.8620\n",
      "Epoch 4/10\n",
      "1s - loss: 0.3370 - acc: 0.8990\n",
      "Epoch 5/10\n",
      "1s - loss: 0.2505 - acc: 0.9300\n",
      "Epoch 6/10\n",
      "1s - loss: 0.1704 - acc: 0.9430\n",
      "Epoch 7/10\n",
      "1s - loss: 0.0887 - acc: 0.9730\n",
      "Epoch 8/10\n",
      "1s - loss: 0.0680 - acc: 0.9760\n",
      "Epoch 9/10\n",
      "1s - loss: 0.0630 - acc: 0.9790\n",
      "Epoch 10/10\n",
      "1s - loss: 0.0343 - acc: 0.9860\n",
      "test loss: 0.545471633568\n",
      "test accuracy 0.885\n"
     ]
    }
   ],
   "source": [
    "# Specify an optimizer to use\n",
    "\n",
    "# Choose loss function, optimization method, and metrics (which results to display)\n",
    "model.compile(\n",
    "    optimizer = adam,\n",
    "    loss='categorical_crossentropy',\n",
    "    metrics=['accuracy']\n",
    ")\n",
    "\n",
    "# Training\n",
    "model.fit(X_train,y_train,epochs=10,batch_size=32,verbose=2)\n",
    "\n",
    "# Testing\n",
    "loss, accuracy = model.evaluate(X_test,y_test,verbose=2)\n",
    "print('test loss:', loss)\n",
    "print('test accuracy', accuracy)"
   ]
  },
  {
   "cell_type": "code",
   "execution_count": 35,
   "metadata": {
    "collapsed": false,
    "deletable": true,
    "editable": true
   },
   "outputs": [
    {
     "name": "stdout",
     "output_type": "stream",
     "text": [
      "[ 0.  0.  0.  0.  0.  0.  0.  0.  0.  1.]\n",
      "[[  5.77282617e-06   1.56029164e-05   5.93184768e-06   8.82432960e-06\n",
      "    5.35711079e-05   4.91911705e-05   1.39271989e-07   2.60506966e-03\n",
      "    8.93927427e-05   9.97166455e-01]]\n"
     ]
    },
    {
     "data": {
      "text/plain": [
       "[<matplotlib.lines.Line2D at 0x1d6cddb8ba8>]"
      ]
     },
     "execution_count": 35,
     "metadata": {},
     "output_type": "execute_result"
    },
    {
     "data": {
      "image/png": "[encoded data removed]",
      "text/plain": [
       "<matplotlib.figure.Figure at 0x1d6ce030e80>"
      ]
     },
     "metadata": {},
     "output_type": "display_data"
    },
    {
     "data": {
      "image/png": "[encoded data removed]",
      "text/plain": [
       "<matplotlib.figure.Figure at 0x1d6ce030ef0>"
      ]
     },
     "metadata": {},
     "output_type": "display_data"
    }
   ],
   "source": [
    "# Show the image of one testing example\n",
    "temp = np.random.randint(y_test.shape[0],size=1)\n",
    "plt.imshow(X_test[temp[0],0,:,:])\n",
    "\n",
    "# Display its target\n",
    "print(y_test[temp[0]])\n",
    "\n",
    "# Get its prediction\n",
    "output = model.predict(X_test[temp[0]].reshape(-1,1, 28,28))\n",
    "print(output)\n",
    "plt.figure()\n",
    "plt.xticks(np.arange(output.shape[1]))\n",
    "plt.plot(np.arange(output.shape[1]),output.T)"
   ]
  },
  {
   "cell_type": "code",
   "execution_count": null,
   "metadata": {
    "collapsed": true,
    "deletable": true,
    "editable": true
   },
   "outputs": [],
   "source": []
  }
 ],
 "metadata": {
  "kernelspec": {
   "display_name": "Python 3",
   "language": "python",
   "name": "python3"
  },
  "language_info": {
   "codemirror_mode": {
    "name": "ipython",
    "version": 3
   },
   "file_extension": ".py",
   "mimetype": "text/x-python",
   "name": "python",
   "nbconvert_exporter": "python",
   "pygments_lexer": "ipython3",
   "version": "3.5.3"
  }
 },
 "nbformat": 4,
 "nbformat_minor": 2
}
